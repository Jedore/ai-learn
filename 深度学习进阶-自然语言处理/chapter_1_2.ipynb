{
 "cells": [
  {
   "cell_type": "markdown",
   "source": [
    "## mini-batch 全连接层变换"
   ],
   "metadata": {
    "collapsed": false
   },
   "id": "8f310d37ec32798a"
  },
  {
   "cell_type": "code",
   "execution_count": 3,
   "outputs": [
    {
     "name": "stdout",
     "output_type": "stream",
     "text": [
      "W1: [[ 0.9416318  -0.64799101 -0.45185271 -0.77176706]\n",
      " [ 0.40080749  1.11759626  1.04142664 -0.68003073]]\n",
      "b1: [-0.49873995 -0.9841951   1.24463856 -1.13535769]\n",
      "x: [[ 1.05323456 -0.85019993]\n",
      " [-0.93076605  0.2995948 ]\n",
      " [ 1.09565234 -0.7668491 ]\n",
      " [-1.32827663 -1.48286517]\n",
      " [ 2.14935801  0.9252244 ]\n",
      " [ 1.40884781 -3.24736826]\n",
      " [ 0.38565974 -0.88123179]\n",
      " [ 1.7714928  -1.11777465]\n",
      " [ 0.75044435 -0.98877027]\n",
      " [ 1.77220707  0.25639455]]\n",
      "h: [[ 0.15225271 -2.61686188 -0.11668918 -1.37004736]\n",
      " [-1.25509902 -0.04624103  1.97721372 -0.62075677]\n",
      " [ 0.22560228 -2.55119565 -0.049052   -1.45946512]\n",
      " [-2.34383093 -1.78072834  0.30052866  0.89815634]\n",
      " [ 1.89600079 -1.34293245  1.23699866 -3.42334243]\n",
      " [-0.47369357 -5.52636243 -2.77384894 -0.01434982]\n",
      " [-0.48879477 -2.21896049  0.1526389  -0.83373248]\n",
      " [ 0.72134156 -3.38132728 -0.71989555 -1.74241637]\n",
      " [-0.18840422 -2.57552225 -0.12418345 -1.04213175]\n",
      " [ 1.27279144 -1.84602377  0.71087811 -2.6774449 ]]\n"
     ]
    }
   ],
   "source": [
    "import numpy as np\n",
    "\n",
    "W1 = np.random.randn(2, 4)  # 权重\n",
    "b1 = np.random.randn(4)  # 偏置\n",
    "x = np.random.randn(10, 2)  # 输入\n",
    "h = np.dot(x, W1) + b1  # 输出\n",
    "print('W1:', W1)\n",
    "print('b1:', b1)\n",
    "print('x:', x)\n",
    "print('h:', h)"
   ],
   "metadata": {
    "collapsed": false,
    "ExecuteTime": {
     "end_time": "2023-10-25T02:38:51.466802300Z",
     "start_time": "2023-10-25T02:38:51.448894Z"
    }
   },
   "id": "764fea92e900bb18"
  },
  {
   "cell_type": "markdown",
   "source": [
    "## 激活函数 sigmoid\n",
    "公式 ![1_2_1](images/1_2_1.png)"
   ],
   "metadata": {
    "collapsed": false
   },
   "id": "3e5b41c7fdb2319b"
  },
  {
   "cell_type": "code",
   "execution_count": 5,
   "outputs": [
    {
     "name": "stdout",
     "output_type": "stream",
     "text": [
      "[[0.53798982 0.06806107 0.47086076 0.2026122 ]\n",
      " [0.22181872 0.4884418  0.87838383 0.34960935]\n",
      " [0.55616257 0.0723462  0.48773946 0.18854915]\n",
      " [0.08755737 0.14421322 0.57457175 0.71057048]\n",
      " [0.86943822 0.20702823 0.77504116 0.03157387]\n",
      " [0.3837424  0.00396466 0.0587538  0.49641261]\n",
      " [0.38017753 0.09806071 0.53808581 0.30285644]\n",
      " [0.67290237 0.03288416 0.32741598 0.14900627]\n",
      " [0.45303778 0.07073048 0.46899397 0.26073888]\n",
      " [0.78122022 0.13634043 0.67059516 0.06431747]]\n"
     ]
    }
   ],
   "source": [
    "def sigmoid(x):\n",
    "    return 1 / (1 + np.exp(-x))\n",
    "\n",
    "\n",
    "a = sigmoid(h)\n",
    "print(a)\n"
   ],
   "metadata": {
    "collapsed": false,
    "ExecuteTime": {
     "end_time": "2023-10-25T02:41:28.950275100Z",
     "start_time": "2023-10-25T02:41:28.932234900Z"
    }
   },
   "id": "6863fb275b716fd2"
  },
  {
   "cell_type": "code",
   "execution_count": 6,
   "outputs": [
    {
     "name": "stdout",
     "output_type": "stream",
     "text": [
      "[[-0.07904049 -0.56835672 -1.8134415 ]\n",
      " [ 0.64708441 -0.4230705  -1.2505176 ]\n",
      " [-0.09519843 -0.54528765 -1.84863312]\n",
      " [ 0.71694833 -0.96117952 -1.13257288]\n",
      " [-0.24486242 -0.19355281 -2.48263851]\n",
      " [ 0.14805367 -1.02489239 -1.52715385]\n",
      " [ 0.1357823  -0.63351535 -1.54520349]\n",
      " [-0.25658081 -0.57879202 -2.03527524]\n",
      " [ 0.02234884 -0.62815622 -1.66286158]\n",
      " [-0.24463811 -0.30505572 -2.29879063]]\n"
     ]
    }
   ],
   "source": [
    "W2 = np.random.randn(4, 3)\n",
    "b2 = np.random.randn(3)\n",
    "s = np.dot(a, W2) + b2\n",
    "print(s)"
   ],
   "metadata": {
    "collapsed": false,
    "ExecuteTime": {
     "end_time": "2023-10-25T02:41:30.936657400Z",
     "start_time": "2023-10-25T02:41:30.931304800Z"
    }
   },
   "id": "1464361feebe3d15"
  },
  {
   "cell_type": "markdown",
   "source": [
    "## 层的类化 及 正向传播的实现\n",
    "要实现的神经网络的层结构：![1_2_2](images/1_2_2.png)"
   ],
   "metadata": {
    "collapsed": false
   },
   "id": "7fbd7facb114a9a4"
  },
  {
   "cell_type": "code",
   "execution_count": 7,
   "outputs": [
    {
     "name": "stdout",
     "output_type": "stream",
     "text": [
      "[[ 0.32307519  0.41744942]\n",
      " [ 0.90695764  0.10402527]\n",
      " [-0.04666013 -1.14108063]\n",
      " [-1.85593069 -1.35711604]\n",
      " [-1.10538726  0.10994757]\n",
      " [-0.29413759  2.28412037]\n",
      " [ 0.19546998 -0.43150058]\n",
      " [ 0.64890816 -0.27846305]\n",
      " [ 0.34213044  0.82987159]\n",
      " [-2.18714755  1.12124173]]\n"
     ]
    }
   ],
   "source": [
    "import numpy as np\n",
    "\n",
    "\n",
    "class Sigmoid(object):\n",
    "    def __init__(self):\n",
    "        self.params = []\n",
    "\n",
    "    @staticmethod\n",
    "    def forward(x):\n",
    "        return 1 / (1 + np.exp(-x))\n",
    "\n",
    "\n",
    "class Affine(object):\n",
    "    def __init__(self, W, b):\n",
    "        self.params = [W, b]\n",
    "\n",
    "    def forward(self, x):\n",
    "        W, b = self.params\n",
    "        return np.dot(x, W) + b\n",
    "\n",
    "\n",
    "class TwoLayerNet(object):\n",
    "    def __init__(self, input_size, hidden_size, output_size):\n",
    "        I, H, O = input_size, hidden_size, output_size\n",
    "\n",
    "        # 初始化权重、偏置\n",
    "        W1 = np.random.randn(I, H)\n",
    "        b1 = np.random.randn(H)\n",
    "        W2 = np.random.randn(H, O)\n",
    "        b2 = np.random.randn(O)\n",
    "\n",
    "        # 实例化生成层\n",
    "        self.layers = [\n",
    "            Affine(W1, b1),\n",
    "            Sigmoid(),\n",
    "            Affine(W2, b2),\n",
    "        ]\n",
    "\n",
    "        # 将所有权重整理到列表\n",
    "        self.params = []\n",
    "        for layer in self.layers:\n",
    "            self.params += layer.params\n",
    "\n",
    "    def predict(self, x):\n",
    "        for layer in self.layers:\n",
    "            x = layer.forward(x)\n",
    "        return x\n",
    "\n",
    "\n",
    "x = np.random.randn(10, 2)\n",
    "model = TwoLayerNet(2, 4, 3)\n",
    "s = model.predict(x)\n",
    "print(x)"
   ],
   "metadata": {
    "collapsed": false,
    "ExecuteTime": {
     "end_time": "2023-10-25T02:56:04.673303900Z",
     "start_time": "2023-10-25T02:56:04.658272400Z"
    }
   },
   "id": "b273225c080ffe88"
  }
 ],
 "metadata": {
  "kernelspec": {
   "display_name": "Python 3",
   "language": "python",
   "name": "python3"
  },
  "language_info": {
   "codemirror_mode": {
    "name": "ipython",
    "version": 2
   },
   "file_extension": ".py",
   "mimetype": "text/x-python",
   "name": "python",
   "nbconvert_exporter": "python",
   "pygments_lexer": "ipython2",
   "version": "2.7.6"
  }
 },
 "nbformat": 4,
 "nbformat_minor": 5
}
