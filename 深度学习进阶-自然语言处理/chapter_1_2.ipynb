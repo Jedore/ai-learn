{
 "cells": [
  {
   "cell_type": "markdown",
   "source": [
    "# 神经网络的推理\n",
    "\n",
    "## 神经网络推理全貌图\n",
    "- 权重\n",
    "- 偏置\n",
    "- 全连接网络\n",
    "- 全连接层\n",
    "- n层神经网络\n",
    "    n可以取决于有权重的层，也可以取决于所有层\n",
    "- 形状检查\n",
    "- 全连接层变换\n",
    "- 激活函数\n",
    "- 线性变换"
   ],
   "metadata": {
    "collapsed": false
   },
   "id": "8b94bed9d2d05433"
  },
  {
   "cell_type": "markdown",
   "source": [
    "## mini-batch 全连接层变换"
   ],
   "metadata": {
    "collapsed": false
   },
   "id": "8f310d37ec32798a"
  },
  {
   "cell_type": "code",
   "execution_count": null,
   "id": "764fea92e900bb18",
   "metadata": {
    "collapsed": false
   },
   "outputs": [],
   "source": [
    "import numpy as np\n",
    "\n",
    "W1 = np.random.randn(2, 4)  # 权重\n",
    "b1 = np.random.randn(4)  # 偏置\n",
    "x = np.random.randn(10, 2)  # 输入\n",
    "h = np.dot(x, W1) + b1  # 输出\n",
    "print('W1:', W1)\n",
    "print('b1:', b1)\n",
    "print('x:', x)\n",
    "print('h:', h)"
   ]
  },
  {
   "cell_type": "markdown",
   "id": "3e5b41c7fdb2319b",
   "metadata": {
    "collapsed": false
   },
   "source": [
    "### 激活函数 sigmoid\n",
    "公式 ![1_2_1](images/1_2_1.png)"
   ]
  },
  {
   "cell_type": "code",
   "execution_count": null,
   "id": "6863fb275b716fd2",
   "metadata": {
    "collapsed": false
   },
   "outputs": [],
   "source": [
    "def sigmoid(x):\n",
    "    return 1 / (1 + np.exp(-x))\n",
    "\n",
    "\n",
    "a = sigmoid(h)\n",
    "print(a)\n"
   ]
  },
  {
   "cell_type": "code",
   "execution_count": null,
   "id": "1464361feebe3d15",
   "metadata": {
    "collapsed": false
   },
   "outputs": [],
   "source": [
    "W2 = np.random.randn(4, 3)\n",
    "b2 = np.random.randn(3)\n",
    "s = np.dot(a, W2) + b2\n",
    "print(s)"
   ]
  },
  {
   "cell_type": "markdown",
   "source": [
    "### 激活函数 softmax"
   ],
   "metadata": {
    "collapsed": false
   },
   "id": "bcc0e7960e4140ce"
  },
  {
   "cell_type": "markdown",
   "id": "7fbd7facb114a9a4",
   "metadata": {
    "collapsed": false
   },
   "source": [
    "## 层的类化 及 正向传播的实现\n",
    "\n",
    "正向传播：\n",
    "\n",
    "反向传播：\n",
    "\n",
    "要实现的神经网络的层结构：![1_2_2](images/1_2_2.png)"
   ]
  },
  {
   "cell_type": "code",
   "execution_count": null,
   "id": "b273225c080ffe88",
   "metadata": {
    "collapsed": false
   },
   "outputs": [],
   "source": [
    "import numpy as np\n",
    "\n",
    "\n",
    "class Sigmoid(object):\n",
    "    def __init__(self):\n",
    "        self.params = []\n",
    "\n",
    "    @staticmethod\n",
    "    def forward(x):\n",
    "        return 1 / (1 + np.exp(-x))\n",
    "\n",
    "\n",
    "class Affine(object):\n",
    "    def __init__(self, W, b):\n",
    "        self.params = [W, b]\n",
    "\n",
    "    def forward(self, x):\n",
    "        W, b = self.params\n",
    "        return np.dot(x, W) + b\n",
    "\n",
    "\n",
    "class TwoLayerNet(object):\n",
    "    def __init__(self, input_size, hidden_size, output_size):\n",
    "        I, H, O = input_size, hidden_size, output_size\n",
    "\n",
    "        # 初始化权重、偏置\n",
    "        W1 = np.random.randn(I, H)\n",
    "        b1 = np.random.randn(H)\n",
    "        W2 = np.random.randn(H, O)\n",
    "        b2 = np.random.randn(O)\n",
    "\n",
    "        # 实例化生成层\n",
    "        self.layers = [\n",
    "            Affine(W1, b1),\n",
    "            Sigmoid(),\n",
    "            Affine(W2, b2),\n",
    "        ]\n",
    "\n",
    "        # 将所有权重整理到列表\n",
    "        self.params = []\n",
    "        for layer in self.layers:\n",
    "            self.params += layer.params\n",
    "\n",
    "    def predict(self, x):\n",
    "        for layer in self.layers:\n",
    "            x = layer.forward(x)\n",
    "        return x\n",
    "\n",
    "\n",
    "x = np.random.randn(10, 2)\n",
    "model = TwoLayerNet(2, 4, 3)\n",
    "s = model.predict(x)\n",
    "print(x)"
   ]
  }
 ],
 "metadata": {
  "kernelspec": {
   "display_name": "Python 3 (ipykernel)",
   "language": "python",
   "name": "python3"
  },
  "language_info": {
   "codemirror_mode": {
    "name": "ipython",
    "version": 3
   },
   "file_extension": ".py",
   "mimetype": "text/x-python",
   "name": "python",
   "nbconvert_exporter": "python",
   "pygments_lexer": "ipython3",
   "version": "3.11.2"
  }
 },
 "nbformat": 4,
 "nbformat_minor": 5
}
