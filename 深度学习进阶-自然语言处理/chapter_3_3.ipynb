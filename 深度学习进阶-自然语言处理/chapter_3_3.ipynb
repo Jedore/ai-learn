{
 "cells": [
  {
   "cell_type": "markdown",
   "source": [
    "# 3.3 学习数据的准备\n",
    "\n",
    "## 3.3.1 上下文和目标词\n",
    "\n",
    "corpus contexts target\n",
    "\n",
    "两边的单词只是作为上下文，没有作为目标词。\n",
    "\n",
    "## 3.3.2 转化为 one-hot 表示\n"
   ],
   "metadata": {
    "collapsed": false
   },
   "id": "d894c491ace7fc3c"
  }
 ],
 "metadata": {
  "kernelspec": {
   "display_name": "Python 3",
   "language": "python",
   "name": "python3"
  },
  "language_info": {
   "codemirror_mode": {
    "name": "ipython",
    "version": 2
   },
   "file_extension": ".py",
   "mimetype": "text/x-python",
   "name": "python",
   "nbconvert_exporter": "python",
   "pygments_lexer": "ipython2",
   "version": "2.7.6"
  }
 },
 "nbformat": 4,
 "nbformat_minor": 5
}
