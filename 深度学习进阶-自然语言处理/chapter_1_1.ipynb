{
 "cells": [
  {
   "cell_type": "markdown",
   "id": "c9b2c39a6bb65793",
   "metadata": {
    "collapsed": false
   },
   "source": [
    "## 使用 numpy 生成向量和矩阵"
   ]
  },
  {
   "cell_type": "code",
   "execution_count": null,
   "id": "initial_id",
   "metadata": {
    "collapsed": false
   },
   "outputs": [],
   "source": [
    "import numpy as np\n",
    "\n",
    "x = np.array([1, 2, 3])\n",
    "print(x.__class__)\n",
    "print(x.shape)\n",
    "print(x.ndim)\n",
    "\n",
    "W = np.array([[1, 2, 3], [4, 5, 6]])\n",
    "print(W.shape)\n",
    "print(W.ndim)"
   ]
  },
  {
   "cell_type": "markdown",
   "id": "3b734944b8c2c5ce",
   "metadata": {
    "collapsed": false
   },
   "source": [
    "## 矩阵对应元素的运算"
   ]
  },
  {
   "cell_type": "code",
   "execution_count": null,
   "id": "c9874dd8b3fd7c34",
   "metadata": {
    "collapsed": false
   },
   "outputs": [],
   "source": [
    "W = np.array([[1, 2, 3], [4, 5, 6]])\n",
    "X = np.array([[0, 1, 2], [3, 4, 5]])\n",
    "print(W + X)\n",
    "print(W * X)"
   ]
  },
  {
   "cell_type": "markdown",
   "source": [
    "## 广播\n",
    "先扩展标量10为 2x2 矩阵，再进行对应元素的运算\n",
    "![1_1_1](images/1_1_1.png)"
   ],
   "metadata": {
    "collapsed": false
   },
   "id": "ae0397cc6411bb5c"
  },
  {
   "cell_type": "code",
   "execution_count": null,
   "outputs": [],
   "source": [
    "A = np.array([[1, 2], [3, 4]])\n",
    "print(A * 10)"
   ],
   "metadata": {
    "collapsed": false
   },
   "id": "eb59a5695b878744"
  },
  {
   "cell_type": "markdown",
   "source": [
    "将数组/行向量 b 扩展为 2x2 矩阵，再进行乘法\n",
    "![1_1_2](images/1_1_2.png)"
   ],
   "metadata": {
    "collapsed": false
   },
   "id": "fa1a0bd5f2c51516"
  },
  {
   "cell_type": "code",
   "execution_count": null,
   "outputs": [],
   "source": [
    "A = np.array([[1, 2], [3, 4]])\n",
    "b = np.array([10, 20])\n",
    "print(A * b)"
   ],
   "metadata": {
    "collapsed": false
   },
   "id": "97f6366e8ea9ad49"
  },
  {
   "cell_type": "markdown",
   "source": [
    "## 向量内积、矩阵乘积\n",
    "- 向量内积：两个形状相同的向量，对应位置元素一一相乘后再求和，是一个标量，又称为标量积、点积\n",
    "- 矩阵乘法：通过 左侧矩阵的行向量和右侧矩阵的列向量的内积 计算得出\n",
    "    ![1_1_3](images/1_1_3.png)\n"
   ],
   "metadata": {
    "collapsed": false
   },
   "id": "da9d24ffc44f6fed"
  },
  {
   "cell_type": "code",
   "execution_count": null,
   "outputs": [],
   "source": [
    "# 向量内积\n",
    "a = np.array([1, 2, 3])\n",
    "b = np.array([4, 5, 6])\n",
    "print(np.dot(a, b))\n",
    "\n",
    "# 矩阵乘积\n",
    "A = np.array([[1, 2], [3, 4]])\n",
    "B = np.array([[5, 6], [7, 8]])\n",
    "print(np.dot(A, B))"
   ],
   "metadata": {
    "collapsed": false
   },
   "id": "d7e992a5a8d27e6d"
  }
 ],
 "metadata": {
  "kernelspec": {
   "display_name": "Python 3 (ipykernel)",
   "language": "python",
   "name": "python3"
  },
  "language_info": {
   "codemirror_mode": {
    "name": "ipython",
    "version": 3
   },
   "file_extension": ".py",
   "mimetype": "text/x-python",
   "name": "python",
   "nbconvert_exporter": "python",
   "pygments_lexer": "ipython3",
   "version": "3.11.2"
  }
 },
 "nbformat": 4,
 "nbformat_minor": 5
}
