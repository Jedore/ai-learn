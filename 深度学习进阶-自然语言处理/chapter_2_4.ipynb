{
 "cells": [
  {
   "cell_type": "markdown",
   "id": "ae75c3becfec107",
   "metadata": {
    "collapsed": false
   },
   "source": [
    "# 基于计数方法的改进\n",
    "## 点互信息\n",
    "上一节中的，上下文单词出现的次数表示共现矩阵，这种”原始“的次数不具备好的性质。如果只看单词的出现次数，那么与 drive car 相比，the car出现的次数会更多，the 和 car 的相关性 drive 和 car 的相关性更强, 这不合理。\n",
    "\n",
    "点互信息（Pointwise Mutual Information, PMI）, 定义如下：\n",
    "\n",
    "<img width=\"300\" src=\"images/2_4_1.png\">\n",
    "\n",
    "P（x）表示x发生的概率，P（y）表示y发生的概率，P（x, y）表示x和y同时发生的概率。PMI的值越高，表明相关性越强。\n",
    "\n",
    "<img width=\"300\" src=\"images/2_4_2.png\">\n",
    "\n",
    "如上图, C(x), C(y) 为 x, y 出现的次数， C(x, y)为x,y的共现次数， 语料库单词总数量为 N。\n",
    "\n",
    "当两个词的共现次数为 0 时, PMI($\\log_2^0=-\\infty$) 为负无穷大，因此实践中都使用 **正的的点互信息（Positive PMI, PPMI）**\n",
    "\n",
    "\\begin{equation} PPMI(x, y) = max(0, PMI(x, y)) \\end{equation}\n",
    "\n",
    "> 注意，发生概率、出现次数，是在共现矩阵中的，如 \"goodbye and i\" 中，\"and\" 只出现了 1 次，但是在共现矩阵中的出现次数为 2。 \n"
   ]
  },
  {
   "cell_type": "code",
   "execution_count": null,
   "id": "ec300608598336d6",
   "metadata": {
    "collapsed": false
   },
   "outputs": [],
   "source": [
    "import numpy as np\n",
    "\n",
    "\n",
    "def ppmi(C, verbose=False, eps=1e-8):\n",
    "    M = np.zeros_like(C, dtype=np.float32)\n",
    "    # 所有元素之和\n",
    "    N = np.sum(C)\n",
    "    # 共现矩阵各行对应位置的元素相加，得行向量, 每个元素值表示索引（word_id）对应 word 的出现次数\n",
    "    S = np.sum(C, axis=0)\n",
    "    total = C.shape[0] * C.shape[1]  # 共现矩阵元素数量\n",
    "    cnt = 0\n",
    "\n",
    "    for i in range(C.shape[0]):\n",
    "        for j in range(C.shape[1]):\n",
    "            pmi = np.log2(C[i, j] * N / (S[i] * S[j]) + eps)\n",
    "            M[i, j] = max(0, pmi)\n",
    "\n",
    "            if verbose:\n",
    "                cnt += 1\n",
    "                if cnt % (total // 100 + 1) == 0:\n",
    "                    print('%.1f%% done' % (100 * cnt / total))\n",
    "    return M\n",
    "\n",
    "\n",
    "def preprocess(text):\n",
    "    text = text.lower()\n",
    "    text = text.replace('.', ' .')\n",
    "    words = text.split(' ')\n",
    "    word_to_id = {}\n",
    "    id_to_word = {}\n",
    "\n",
    "    for word in words:\n",
    "        if word not in word_to_id:\n",
    "            word_id = len(word_to_id)\n",
    "            word_to_id[word] = word_id\n",
    "            id_to_word[word_id] = word\n",
    "    corpus = np.array([word_to_id[w] for w in words])\n",
    "    return corpus, word_to_id, id_to_word\n",
    "\n",
    "\n",
    "def create_co_matrix(corpus, vocab_size, window_size=1):\n",
    "    \"\"\" 创建共现矩阵 \"\"\"\n",
    "    corpus_size = len(corpus)\n",
    "    # 以 0 初始化一个 vocab_size x vocab_size 的矩阵\n",
    "    co_matrix = np.zeros((vocab_size, vocab_size), dtype=np.int32)\n",
    "\n",
    "    # 遍历语料库 corpus 中的每一个 word id\n",
    "    for idx, word_id in enumerate(corpus):\n",
    "        # 根据窗口大小遍历上下文的所有单词\n",
    "        for i in range(1, window_size + 1):\n",
    "            left_idx = idx - i\n",
    "            right_idx = idx + i\n",
    "\n",
    "            if left_idx >= 0:\n",
    "                left_word_id = corpus[left_idx]\n",
    "                co_matrix[word_id][left_word_id] += 1\n",
    "\n",
    "            if right_idx < corpus_size:\n",
    "                right_word_id = corpus[right_idx]\n",
    "                co_matrix[word_id][right_word_id] += 1\n",
    "\n",
    "    return co_matrix\n",
    "\n",
    "\n",
    "text = 'You say goodbye adn I say hello.'\n",
    "corpus, word_to_id, id_to_word = preprocess(text)\n",
    "vocab_size = len(word_to_id)\n",
    "C = create_co_matrix(corpus, vocab_size)\n",
    "W = ppmi(C)\n",
    "np.set_printoptions(precision=3)  # 有效位数\n",
    "\n",
    "print('covariance matrix')\n",
    "print(C)\n",
    "print('-' * 50)\n",
    "print('PPMI')\n",
    "print(W)"
   ]
  },
  {
   "cell_type": "markdown",
   "source": [
    "通过以上代码将 共现矩阵 转化为了一个更好的指标形成的 PPMI矩阵, 获得了更好的单词向量。 但是随着语料库词汇量的增加，矩阵也会无限增大，很难处理。 观察发现， PPMI矩阵中，有很多为0的元素，表示点互信息很低，重要性很低。 针对这些，可以降维，降低数据量、噪声、增加稳健性。"
   ],
   "metadata": {
    "collapsed": false
   },
   "id": "33188c69cbd55658"
  },
  {
   "cell_type": "markdown",
   "source": [
    "## 降维\n",
    "减少不重要的向量维度，保留重要信息。\n",
    "\n",
    "正交：\n",
    "\n",
    "矩阵矩阵：\n",
    "\n",
    "对角矩阵："
   ],
   "metadata": {
    "collapsed": false
   },
   "id": "2c465ab256aad729"
  }
 ],
 "metadata": {
  "kernelspec": {
   "display_name": "Python 3 (ipykernel)",
   "language": "python",
   "name": "python3"
  },
  "language_info": {
   "codemirror_mode": {
    "name": "ipython",
    "version": 3
   },
   "file_extension": ".py",
   "mimetype": "text/x-python",
   "name": "python",
   "nbconvert_exporter": "python",
   "pygments_lexer": "ipython3",
   "version": "3.11.2"
  }
 },
 "nbformat": 4,
 "nbformat_minor": 5
}
