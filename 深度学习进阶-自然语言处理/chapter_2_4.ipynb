{
 "cells": [
  {
   "cell_type": "markdown",
   "source": [
    "# 基于计数方法的改进\n",
    "## 点互信息\n",
    "上一节中的，上下文单词出现的次数表示共现矩阵，这种”原始“的次数不具备好的性质。如果只看单词的出现次数，那么与 drive car 相比，the car出现的次数会更多，the 和 car 的相关性 drive 和 car 的相关性更强, 这不合理。\n",
    "\n",
    "点互信息（Pointwise Mutual Information, PMI）\n",
    "\n",
    "![2-4-1](images/2_4_1.png)\n",
    "\n",
    "P（x）表示x发生的概率，P（y）表示y发生的概率，P（x, y）表示x和y同时发生的概率。PMI的值越高，表明相关性越强。"
   ],
   "metadata": {
    "collapsed": false
   },
   "id": "ae75c3becfec107"
  }
 ],
 "metadata": {
  "kernelspec": {
   "display_name": "Python 3",
   "language": "python",
   "name": "python3"
  },
  "language_info": {
   "codemirror_mode": {
    "name": "ipython",
    "version": 2
   },
   "file_extension": ".py",
   "mimetype": "text/x-python",
   "name": "python",
   "nbconvert_exporter": "python",
   "pygments_lexer": "ipython2",
   "version": "2.7.6"
  }
 },
 "nbformat": 4,
 "nbformat_minor": 5
}
