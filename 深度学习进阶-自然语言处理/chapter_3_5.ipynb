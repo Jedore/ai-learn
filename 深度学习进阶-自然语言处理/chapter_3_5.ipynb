{
 "cells": [
  {
   "cell_type": "markdown",
   "source": [
    "# 3.5 word2ved的补充说明\n",
    "\n",
    "## 3.5.1 CBOW模型和概率\n",
    "\n",
    "负对数似然\n",
    "\n",
    "## 3.5.2 skip-gram模型"
   ],
   "metadata": {
    "collapsed": false
   },
   "id": "1b66a6696cda0a20"
  }
 ],
 "metadata": {
  "kernelspec": {
   "display_name": "Python 3",
   "language": "python",
   "name": "python3"
  },
  "language_info": {
   "codemirror_mode": {
    "name": "ipython",
    "version": 2
   },
   "file_extension": ".py",
   "mimetype": "text/x-python",
   "name": "python",
   "nbconvert_exporter": "python",
   "pygments_lexer": "ipython2",
   "version": "2.7.6"
  }
 },
 "nbformat": 4,
 "nbformat_minor": 5
}
