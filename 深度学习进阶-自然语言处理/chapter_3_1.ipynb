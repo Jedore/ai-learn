{
 "cells": [
  {
   "cell_type": "markdown",
   "source": [
    "# 3.1 基于推理的方法和神经网络\n",
    "\n",
    "## 3.1.1 基于计数的方法的问题\n",
    "\n",
    "大规模语料库：\n",
    "\n",
    "**比较**\n",
    "\n",
    "## 3.1.2 基于推理的方法概要\n",
    "\n",
    "**推理**\n",
    "\n",
    "分布式假设、预测问题、单词共现\n",
    "\n",
    "## 3.1.3 神经网络中单词的处理方法\n",
    "\n",
    "**one-hot向量**\n",
    "\n",
    "**MatMul层**\n"
   ],
   "metadata": {
    "collapsed": false
   },
   "id": "325e370ce2dc3d8d"
  }
 ],
 "metadata": {
  "kernelspec": {
   "display_name": "Python 3",
   "language": "python",
   "name": "python3"
  },
  "language_info": {
   "codemirror_mode": {
    "name": "ipython",
    "version": 2
   },
   "file_extension": ".py",
   "mimetype": "text/x-python",
   "name": "python",
   "nbconvert_exporter": "python",
   "pygments_lexer": "ipython2",
   "version": "2.7.6"
  }
 },
 "nbformat": 4,
 "nbformat_minor": 5
}
