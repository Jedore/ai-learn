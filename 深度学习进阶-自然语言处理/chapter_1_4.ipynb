{
 "cells": [
  {
   "cell_type": "markdown",
   "source": [
    "# 1.4 使用神经网络解决问题\n",
    "\n",
    "\n",
    "**模型**"
   ],
   "metadata": {
    "collapsed": false
   },
   "id": "de2060bad52f2513"
  }
 ],
 "metadata": {
  "kernelspec": {
   "display_name": "Python 3",
   "language": "python",
   "name": "python3"
  },
  "language_info": {
   "codemirror_mode": {
    "name": "ipython",
    "version": 2
   },
   "file_extension": ".py",
   "mimetype": "text/x-python",
   "name": "python",
   "nbconvert_exporter": "python",
   "pygments_lexer": "ipython2",
   "version": "2.7.6"
  }
 },
 "nbformat": 4,
 "nbformat_minor": 5
}
