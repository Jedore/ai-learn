{
 "cells": [
  {
   "cell_type": "markdown",
   "source": [
    "# 基于计数的方法\n",
    "基于计数的方法的目标是从富有实践知识的语料库中，自动且高效地提取本质。\n",
    "- 语料库 corpus\n",
    "    大量的文本数据。语料库中包含了大量的关于自然语言的实践知识，即文章的写作方法、单词的选择方法和单词含义等。\n",
    "    > 自然语言处理领域中使用的语料库有时会给文本数据添加额外的信息。比如，可以给文本数据的各个单词标记词性。在这种情况下，为了方便计算机处理，语料库通常会被结构化（比如，采用树结构等数据形式）。"
   ],
   "metadata": {
    "collapsed": false
   },
   "id": "ae75c3becfec107"
  },
  {
   "cell_type": "markdown",
   "source": [
    "## Python 预处理\n",
    "单纯的字符串处理"
   ],
   "metadata": {
    "collapsed": false
   },
   "id": "596a6bb6959f80a6"
  },
  {
   "cell_type": "code",
   "execution_count": null,
   "outputs": [],
   "source": [
    "import numpy as np\n",
    "\n",
    "\n",
    "def preprocess(text):\n",
    "    text = text.lower()\n",
    "    text = text.replace('.', ' .')\n",
    "    words = text.split(' ')\n",
    "    word_to_id = {}\n",
    "    id_to_word = {}\n",
    "\n",
    "    for word in words:\n",
    "        if word not in word_to_id:\n",
    "            word_id = len(word_to_id)\n",
    "            word_to_id[word] = word_id\n",
    "            id_to_word[word_id] = word\n",
    "    corpus = np.array([word_to_id[w] for w in words])\n",
    "    return corpus, word_to_id, id_to_word\n",
    "\n",
    "\n",
    "text = 'You say goodbye and I say hello.'\n",
    "print(preprocess(text))"
   ],
   "metadata": {
    "collapsed": false
   },
   "id": "ee3992e1c7ef9fd2"
  },
  {
   "cell_type": "markdown",
   "source": [
    "## 单词的分布式表示\n",
    "将单词表示为固定长度的向量，准确把握单词含义。\n",
    "多为密集向量（多数元素是非0实数）\n",
    "\n",
    "分布式表示的前提是 **分布式假设**， 即某个单词的含义由它周围的词形成。 许多用向量表示单词的研究多是基于此假设。\n",
    "![2_3_1](images/2_3_1.png)\n",
    "**上下文**：某个单词的周围词汇。上下位的大小 成为 **窗口大小**，\n",
    "\n",
    "## 共现矩阵 co-occurrence matrix\n",
    "基于计数(或统计)的方法：针对某个词，对其周围出现了多少次什么单词进行计数，再汇总。\n",
    "如图，每一行的值表示，针对行左侧的词，在其**上下文**中每列对应词出现的次数, 窗口大小为 1:\n",
    "\n",
    "![2_3_2](images/2_3_2.png)\n",
    "\n",
    "以矩阵的形式，表示图中数据，即为共现矩阵。"
   ],
   "metadata": {
    "collapsed": false
   },
   "id": "f31592dcbb58e51a"
  },
  {
   "cell_type": "code",
   "execution_count": null,
   "outputs": [],
   "source": [
    "def create_co_matrix(corpus, vocab_size, window_size=1):\n",
    "    \"\"\" 创建共现矩阵 \"\"\"\n",
    "    corpus_size = len(corpus)\n",
    "    # 以 0 初始化一个 vocab_size x vocab_size 的矩阵\n",
    "    co_matrix = np.zeros((vocab_size, vocab_size), dtype=np.int32)\n",
    "\n",
    "    # 遍历语料库 corpus 中的每一个 word id\n",
    "    for idx, word_id in enumerate(corpus):\n",
    "        # 根据窗口大小遍历上下文的所有单词\n",
    "        for i in range(1, window_size + 1):\n",
    "            left_idx = idx - i\n",
    "            right_idx = idx + i\n",
    "\n",
    "            if left_idx >= 0:\n",
    "                left_word_id = corpus[left_idx]\n",
    "                co_matrix[word_id][left_word_id] += 1\n",
    "\n",
    "            if right_idx < corpus_size:\n",
    "                right_word_id = corpus[right_idx]\n",
    "                co_matrix[word_id][right_word_id] += 1\n",
    "\n",
    "    return co_matrix\n",
    "\n",
    "\n",
    "corpus, word_to_id, id_to_word = preprocess(text)\n",
    "C = create_co_matrix(corpus, len(word_to_id))\n",
    "print(C)"
   ],
   "metadata": {
    "collapsed": false
   },
   "id": "872a96c9081b040c"
  },
  {
   "cell_type": "markdown",
   "source": [
    "## 向量相似度 vector similarity\n",
    "测量 向量相似度的方法有:\n",
    "- 向量内积:两个形状相同的向量，对应位置元素一一相乘后再求和，是一个标量，又称为标量积、点积\n",
    "- 欧氏距离（欧几里得度量）:指在m维空间中两个点之间的真实距离，或者向量的自然长度（即该点到原点的距离）。 \n",
    "等...\n",
    "\n",
    "但是测量单词的向量表示的相似度，余弦相似度（cosine similarity）比较常用,定义如下：\n",
    "![2_3_3](images/2_3_3.png)\n",
    "分子：向量内积\n",
    "\n",
    "分母：各个向量的L2范数\n",
    "\n",
    "范数：一个n维度的欧几里得空间有欧氏范数,每一个向量的欧氏范数就是其**长度**。\n",
    "\n",
    "L2范数：向量所有元素的平方和的开平方。\n",
    "\n",
    "两个向量完全指向相同的方向时，余弦相似度为1；完全指向相反的方向时，余弦相似度为-1。"
   ],
   "metadata": {
    "collapsed": false
   },
   "id": "ddd4a0b4c3da509"
  },
  {
   "cell_type": "code",
   "execution_count": null,
   "outputs": [],
   "source": [
    "def cos_similarity(x, y, eps=1e-8):\n",
    "    # x, y 均为向量, eps 微小值解决向量为0时的除数为0的问题,绝大多数情况不会对结果影响\n",
    "    nx = x / np.sqrt(np.sum(x ** 2) + eps)  # x ** 2 是两个向量x相乘，即向量内积，各元素的平方和， sqrt 对平方和 开平方\n",
    "    ny = y / np.sqrt(np.sum(y ** 2) + eps)\n",
    "    return np.dot(nx, ny)\n",
    "\n",
    "\n",
    "# you 和 i 的相似度\n",
    "c0 = C[word_to_id['you']]  # you的向量\n",
    "c1 = C[word_to_id['i']]  # i的向量\n",
    "print(cos_similarity(c0, c1))"
   ],
   "metadata": {
    "collapsed": false
   },
   "id": "866581a0605e7b5e"
  },
  {
   "cell_type": "markdown",
   "source": [
    "## 相似单词的排序\n",
    "将某个单词的相似词按降序展示"
   ],
   "metadata": {
    "collapsed": false
   },
   "id": "858602fbf46a73c9"
  },
  {
   "cell_type": "code",
   "execution_count": null,
   "outputs": [],
   "source": [
    "def most_similar(query, word_to_id, id_to_word, co_matrix, top=5):\n",
    "    # 取出查询词\n",
    "    if query not in word_to_id:\n",
    "        print(query, 'is not found')\n",
    "        return\n",
    "\n",
    "    query_id = word_to_id[query]\n",
    "    query_vec = co_matrix[query_id]\n",
    "\n",
    "    # 计算相似度\n",
    "    vocab_size = len(word_to_id)\n",
    "    similarity = np.zeros(vocab_size)\n",
    "    for i in range(vocab_size):\n",
    "        similarity[i] = cos_similarity(co_matrix[i], query_vec)\n",
    "\n",
    "    # 按相似度降序输出 argsort 对向量升序排序并返回原索引，-1 则降序\n",
    "    count = 0\n",
    "    for i in (-1 * similarity).argsort():\n",
    "        if i == query_id:\n",
    "            continue\n",
    "        print(id_to_word[i], similarity[i])\n",
    "        count += 1\n",
    "        if count >= top:\n",
    "            return\n",
    "\n",
    "\n",
    "most_similar('you', word_to_id, id_to_word, C)"
   ],
   "metadata": {
    "collapsed": false
   },
   "id": "5708705891fa7d6f"
  },
  {
   "cell_type": "markdown",
   "source": [
    "goodbye 和 you 这么相似，明显不符合预期。"
   ],
   "metadata": {
    "collapsed": false
   },
   "id": "ff14b49f12b8e0a0"
  }
 ],
 "metadata": {
  "kernelspec": {
   "display_name": "Python 3",
   "language": "python",
   "name": "python3"
  },
  "language_info": {
   "codemirror_mode": {
    "name": "ipython",
    "version": 2
   },
   "file_extension": ".py",
   "mimetype": "text/x-python",
   "name": "python",
   "nbconvert_exporter": "python",
   "pygments_lexer": "ipython2",
   "version": "2.7.6"
  }
 },
 "nbformat": 4,
 "nbformat_minor": 5
}
