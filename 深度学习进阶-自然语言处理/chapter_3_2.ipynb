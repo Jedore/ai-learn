{
 "cells": [
  {
   "cell_type": "markdown",
   "source": [
    "# 3.2 简单的 word2vec\n",
    "\n",
    "word2vec 使用的两个神经网络：\n",
    "- CBOW\n",
    "- skip-gram\n",
    "\n",
    "## 3.2.1 CBOW模型的推理\n",
    "\n",
    "CBOW模型的流程\n",
    "神经元视角下的CBOW模型的网络结构\n",
    "层视角下的CBOW模型的网络结构\n",
    "\n",
    "**编码**\n",
    "\n",
    "**解码**\n",
    "\n",
    "\n",
    "## 3.2.2 CBOW模型的学习\n",
    "\n",
    "**出现模式**\n",
    "\n",
    "\n",
    "学习时的CBOW模型的网络结构\n",
    "\n",
    "## 3.2.3 word2vec的权重和分布式表示\n",
    "\n",
    "两个权重\n"
   ],
   "metadata": {
    "collapsed": false
   },
   "id": "d12320a0c09ce216"
  }
 ],
 "metadata": {
  "kernelspec": {
   "display_name": "Python 3",
   "language": "python",
   "name": "python3"
  },
  "language_info": {
   "codemirror_mode": {
    "name": "ipython",
    "version": 2
   },
   "file_extension": ".py",
   "mimetype": "text/x-python",
   "name": "python",
   "nbconvert_exporter": "python",
   "pygments_lexer": "ipython2",
   "version": "2.7.6"
  }
 },
 "nbformat": 4,
 "nbformat_minor": 5
}
